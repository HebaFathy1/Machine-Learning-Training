{
  "nbformat": 4,
  "nbformat_minor": 0,
  "metadata": {
    "colab": {
      "name": "assignment 2 part 2   / part 2.ipynb",
      "provenance": [],
      "include_colab_link": true
    },
    "kernelspec": {
      "name": "python3",
      "display_name": "Python 3"
    }
  },
  "cells": [
    {
      "cell_type": "markdown",
      "metadata": {
        "id": "view-in-github",
        "colab_type": "text"
      },
      "source": [
        "<a href=\"https://colab.research.google.com/github/HebaFathy1/Machine-Learning-Training/blob/main/assignment_2_part_2_part_2.ipynb\" target=\"_parent\"><img src=\"https://colab.research.google.com/assets/colab-badge.svg\" alt=\"Open In Colab\"/></a>"
      ]
    },
    {
      "cell_type": "markdown",
      "metadata": {
        "id": "c2sSEq3uSurn"
      },
      "source": [
        "# Files and Exceptions"
      ]
    },
    {
      "cell_type": "code",
      "metadata": {
        "id": "lOOYyIu9zrHZ",
        "colab": {
          "base_uri": "https://localhost:8080/"
        },
        "outputId": "55034642-d63d-4d0d-99a6-00cb099ff9f4"
      },
      "source": [
        "from google.colab import drive\n",
        "drive.mount('/content/drive')"
      ],
      "execution_count": 6,
      "outputs": [
        {
          "output_type": "stream",
          "text": [
            "Mounted at /content/drive\n"
          ],
          "name": "stdout"
        }
      ]
    },
    {
      "cell_type": "markdown",
      "metadata": {
        "id": "qw2XyRs-TWIF"
      },
      "source": [
        "**8. Sum of Numbers** <br>\n",
        "Assume that a file containing a series of integers is named numbers.txt and exists on the computer’s disk. Write a program that reads all of the numbers stored in the file and calculates their total.\n"
      ]
    },
    {
      "cell_type": "code",
      "metadata": {
        "id": "92EStR9KSu8N",
        "colab": {
          "base_uri": "https://localhost:8080/"
        },
        "outputId": "875feaeb-4cfa-4197-bf45-b75b30943d85"
      },
      "source": [
        "def main():\n",
        "   numbers = open('/content/drive/MyDrive/numbers.txt', 'r')\n",
        "   total =  0.0\n",
        "   for line in numbers:\n",
        "    integers = float(line)\n",
        "\n",
        "   total += integers\n",
        "\n",
        "   numbers.close()\n",
        "\n",
        "   print('The total is', total)\n",
        "main()"
      ],
      "execution_count": 8,
      "outputs": [
        {
          "output_type": "stream",
          "text": [
            "The total is 124747226.0\n"
          ],
          "name": "stdout"
        }
      ]
    },
    {
      "cell_type": "code",
      "metadata": {
        "id": "B7GImG_lSu-u"
      },
      "source": [
        ""
      ],
      "execution_count": null,
      "outputs": []
    },
    {
      "cell_type": "markdown",
      "metadata": {
        "id": "gW0mWcdDVgK4"
      },
      "source": [
        "**9. Average of Numbers** <br>\n",
        "Assume that a file containing a series of integers is named numbers.txt and exists on the computer’s disk. Write a program that calculates the average of all the numbers stored in\n",
        "the file"
      ]
    },
    {
      "cell_type": "code",
      "metadata": {
        "id": "3-DZx-vnSvCe",
        "colab": {
          "base_uri": "https://localhost:8080/"
        },
        "outputId": "a90870b7-5831-4081-ac6c-3418622fa9df"
      },
      "source": [
        "def main():\n",
        "  average = open('/content/drive/MyDrive/numbers.txt', 'r')\n",
        "\n",
        "  total = 0.0\n",
        "  count = 0\n",
        "  for line in average:\n",
        "    integers = float(line)\n",
        "    count += 1\n",
        "    total += integers\n",
        "  average.close()\n",
        "  print('The average is ', total/count)\n",
        "main()"
      ],
      "execution_count": 7,
      "outputs": [
        {
          "output_type": "stream",
          "text": [
            "The average is  102267008.86206897\n"
          ],
          "name": "stdout"
        }
      ]
    },
    {
      "cell_type": "markdown",
      "metadata": {
        "id": "vjchCYETVwPx"
      },
      "source": [
        "**10. Random Number File Writer**<br>\n",
        "Write a program that writes a series of random numbers to a file. Each random number should be in the range of 1 \n",
        "through 500. The application should let the user specify how\n",
        "many random numbers the file will hold.\n"
      ]
    },
    {
      "cell_type": "code",
      "metadata": {
        "id": "DCyba_BZVxLF",
        "colab": {
          "base_uri": "https://localhost:8080/"
        },
        "outputId": "bfb187d3-a893-4386-9dcd-262507583d17"
      },
      "source": [
        "import random\n",
        "def main():\n",
        "  number = int(input('how many random numbers the file will hold?  ' ))\n",
        "  file = open('file.txt', 'w')\n",
        "  for count in range(1, number + 1): \n",
        "    random_numbers = random.randint(1,500)\n",
        "    file.write(str(random_numbers) + '\\n')\n",
        "  file.close()\n",
        "  print('random numbers the file will hold is : ',random_numbers)\n",
        "main()"
      ],
      "execution_count": 2,
      "outputs": [
        {
          "output_type": "stream",
          "text": [
            "how many random numbers the file will hold?  6\n",
            "random numbers the file will hold is :  62\n"
          ],
          "name": "stdout"
        }
      ]
    },
    {
      "cell_type": "code",
      "metadata": {
        "id": "uZ7CQJM0VxN5"
      },
      "source": [
        ""
      ],
      "execution_count": null,
      "outputs": []
    },
    {
      "cell_type": "markdown",
      "metadata": {
        "id": "p75ZKqbXWMdY"
      },
      "source": [
        "**11.  Exception Handing** <br>\n",
        "Modify the program that you wrote for Exercise 9 so it handles the following exceptions: <br>\n",
        "* It should handle any IOError exceptions that are raised when the file is opened and data\n",
        "is read from it. <br>\n",
        "* It should handle any ValueError exceptions that are raised when the items that are read from the file are converted to a number."
      ]
    },
    {
      "cell_type": "code",
      "metadata": {
        "id": "22SOHQbrVxRE",
        "colab": {
          "base_uri": "https://localhost:8080/"
        },
        "outputId": "d34edc49-7e32-4858-8a22-115a70cb166f"
      },
      "source": [
        "def main(): \n",
        " total = 0.0\n",
        "try:\n",
        "     file = open('/content/drive/MyDrive/numbers.txt', 'r')\n",
        "     for line in infile:\n",
        "      amount = float(line)\n",
        "      total += amount\n",
        "     file.close()\n",
        "     print(format(total, ',.2f'))\n",
        "except IOError:\n",
        "    print('An error occured trying to read the file.')\n",
        "except ValueError:\n",
        "    print('Non-numeric data ')\n",
        "except:\n",
        "    print('error occured.')\n",
        "main()"
      ],
      "execution_count": 3,
      "outputs": [
        {
          "output_type": "stream",
          "text": [
            "An error occured trying to read the file.\n"
          ],
          "name": "stdout"
        }
      ]
    },
    {
      "cell_type": "code",
      "metadata": {
        "id": "3p0MENR_WrBV"
      },
      "source": [
        ""
      ],
      "execution_count": null,
      "outputs": []
    }
  ]
}